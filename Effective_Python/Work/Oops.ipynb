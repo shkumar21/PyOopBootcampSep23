{
 "cells": [
  {
   "cell_type": "code",
   "execution_count": null,
   "id": "a659e9a1-e8e9-4e7b-8afe-f89d69403b68",
   "metadata": {},
   "outputs": [],
   "source": [
    "#Number 1\n",
    "def my_function():\n",
    "  print(\"Hello from a cfunction\")\n",
    "my_function()"
   ]
  },
  {
   "cell_type": "code",
   "execution_count": null,
   "id": "29c44254",
   "metadata": {},
   "outputs": [],
   "source": [
    "from product import Product\n",
    "class GSTProduct(Product):\n",
    "    def panic(self):\n",
    "        self.sell(self.quant)\n",
    "    def cost(self):\n",
    "        return 1.25*self.quant*self.price\n",
    "\n",
    "#main start from here\n",
    "gt = GSTProduct('MINT', 100, 490.15)\n",
    "p = Product('MINT', 100, 490.10)\n",
    "print(f'{p.cost()=}')\n",
    "print(f'{gt.cost()=}')\n",
    "# p.sell(25)\n",
    "# print(p.quant)\n",
    "# p.panic()\n",
    "# print(p.quant)\n",
    "\n",
    "# gt.sell(25)\n",
    "# print(gt.quant)\n",
    "# gt.panic()\n",
    "# print(gt.quant)\n",
    "# print(p.quant)\n"
   ]
  },
  {
   "cell_type": "code",
   "execution_count": null,
   "id": "37451806",
   "metadata": {},
   "outputs": [],
   "source": [
    "from product import Product\n",
    "class GSTProduct(Product):\n",
    "    def panic(self):\n",
    "        self.sell(self.quant)\n",
    "    def cost(self):\n",
    "        actual_cost= super().cost()\n",
    "        return 1.25*actual_cost\n",
    "\n",
    "#main start from here\n",
    "gt = GSTProduct('MINT', 100, 490.15)\n",
    "p = Product('MINT', 100, 490.10)\n",
    "print(f'Old price: {p.cost()}')\n",
    "print(f'Price with GST:{ gt.cost()}')\n",
    "\n",
    "#reuse, redefine, override"
   ]
  },
  {
   "cell_type": "code",
   "execution_count": null,
   "id": "4e2dc703",
   "metadata": {},
   "outputs": [],
   "source": [
    "from product import Product\n",
    "class GSTProduct(Product):\n",
    "    def __init__(self, name, quant, price, tax): ##redefining init\n",
    "        super().__init__(name, quant, price) ##calling parents __init\n",
    "        self.tax = tax\n",
    "\n",
    "    def panic(self):\n",
    "        self.sell(self.quant)\n",
    "\n",
    "    def cost(self):\n",
    "        actual_cost= super().cost()\n",
    "        return actual_cost + (self.tax*actual_cost/100)\n",
    "\n",
    "#main start from here\n",
    "#p = Product('MINT', 100, 490.10)\n",
    "#gt = GSTProduct('MINT', 100, 490.15)\n",
    "tgt = GSTProduct('MINT', 100, 490.15, 25)\n",
    "#print(f'Old price: {p.cost()}')\n",
    "#print(f'Price with GST:{ gt.cost()}')\n",
    "print(f'Price with GST:{ tgt.cost()}')\n",
    "\n",
    "#reuse, redefine, override\n"
   ]
  }
 ],
 "metadata": {
  "kernelspec": {
   "display_name": "Python 3 (ipykernel)",
   "language": "python",
   "name": "python3"
  },
  "language_info": {
   "codemirror_mode": {
    "name": "ipython",
    "version": 3
   },
   "file_extension": ".py",
   "mimetype": "text/x-python",
   "name": "python",
   "nbconvert_exporter": "python",
   "pygments_lexer": "ipython3",
   "version": "3.11.4"
  }
 },
 "nbformat": 4,
 "nbformat_minor": 5
}
